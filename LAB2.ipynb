{
 "cells": [
  {
   "cell_type": "markdown",
   "metadata": {},
   "source": [
    "NAME: ABDULLAH RAFIQ\n",
    "REG NO.: 19-NTU-CS-1037\n",
    "LAB PLAN NO.: 2"
   ]
  },
  {
   "cell_type": "markdown",
   "metadata": {},
   "source": [
    "TASK 4"
   ]
  },
  {
   "cell_type": "code",
   "execution_count": 1,
   "metadata": {},
   "outputs": [
    {
     "name": "stdout",
     "output_type": "stream",
     "text": [
      "5! = 120\n"
     ]
    }
   ],
   "source": [
    "num = int(input(\"Enter your no. : \"))\n",
    "fact = 1\n",
    "for i in range(1, num+1):\n",
    "    fact = i*fact\n",
    "print(str(i)+\"! = \"+str(fact))\n"
   ]
  },
  {
   "cell_type": "markdown",
   "metadata": {},
   "source": [
    "TASK 5"
   ]
  },
  {
   "cell_type": "code",
   "execution_count": 2,
   "metadata": {},
   "outputs": [
    {
     "name": "stdout",
     "output_type": "stream",
     "text": [
      "54321\n"
     ]
    }
   ],
   "source": [
    "import string\n",
    "\n",
    "\n",
    "num = str(input(\"Enter your 5 Digit Number\"))\n",
    "a = ''\n",
    "for i in range(1, len(num)+1):\n",
    "    a += num[len(num)-i]\n",
    "print(a)\n"
   ]
  },
  {
   "cell_type": "markdown",
   "metadata": {},
   "source": [
    "TASK 6"
   ]
  },
  {
   "cell_type": "code",
   "execution_count": 3,
   "metadata": {},
   "outputs": [
    {
     "name": "stdout",
     "output_type": "stream",
     "text": [
      "3\n",
      "6\n",
      "5\n",
      "6\n",
      "4\n",
      "5\n",
      "6\n",
      "4\n",
      "3\n",
      "4\n",
      "3\n",
      "2\n",
      "4\n",
      "Max = 4\n",
      "Min = 3\n"
     ]
    }
   ],
   "source": [
    "from ast import Num\n",
    "\n",
    "\n",
    "listOfNumber = []\n",
    "while(1):\n",
    "    num = int(input('Enter your no. OR -1 : '))\n",
    "    if(num == -1):\n",
    "        break\n",
    "    listOfNumber.append(num)\n",
    "max = 0\n",
    "min = 0\n",
    "for i in range(0, len(listOfNumber)-1):\n",
    "    print(listOfNumber[i])\n",
    "    if listOfNumber[i] < listOfNumber[i+1]:\n",
    "        if(min < listOfNumber[i]):\n",
    "            min = listOfNumber[i]\n",
    "            max = listOfNumber[i+1]\n",
    "    else:\n",
    "        max = listOfNumber[i]\n",
    "        min = listOfNumber[i+1]\n",
    "\n",
    "print('Max = ' + str(max))\n",
    "print('Min = ' + str(min))\n"
   ]
  },
  {
   "cell_type": "markdown",
   "metadata": {},
   "source": [
    "TASK 7"
   ]
  },
  {
   "cell_type": "code",
   "execution_count": 14,
   "metadata": {},
   "outputs": [
    {
     "name": "stdout",
     "output_type": "stream",
     "text": [
      "5\n"
     ]
    }
   ],
   "source": [
    "num1 = int(input(\"Enter your first No. : \"))\n",
    "num2 = int(input(\"Enter your Second No. : \"))\n",
    "divisorsOfNum1 = []\n",
    "divisorsOfNum2 = []\n",
    "\n",
    "for i in range(1, num1+1):\n",
    "    if num1 % i == 0:\n",
    "        divisorsOfNum1.append(i)\n",
    "\n",
    "for i in range(1, num2+1):\n",
    "    if num2 % i == 0:\n",
    "        divisorsOfNum2.append(i)\n",
    "for i in range(0, len(divisorsOfNum1)):\n",
    "    for j in range(0, len(divisorsOfNum2)):\n",
    "        if divisorsOfNum1[i] == divisorsOfNum2[j]:\n",
    "            gdc = divisorsOfNum1[i]\n",
    "            continue\n",
    "\n",
    "print(gdc)\n"
   ]
  },
  {
   "cell_type": "markdown",
   "metadata": {},
   "source": [
    "TASK 8"
   ]
  },
  {
   "cell_type": "code",
   "execution_count": 5,
   "metadata": {},
   "outputs": [
    {
     "name": "stdout",
     "output_type": "stream",
     "text": [
      "No. is prime\n"
     ]
    }
   ],
   "source": [
    "from ast import Num\n",
    "from math import ceil\n",
    "\n",
    "\n",
    "num = int(input(\"Enter your no. : \"))\n",
    "for i in range(2, ceil(num/2)):\n",
    "    if num % i == 0:\n",
    "        print(\"No. is not prime\")\n",
    "        break\n",
    "else:\n",
    "    print(\"No. is prime\")\n"
   ]
  },
  {
   "cell_type": "markdown",
   "metadata": {},
   "source": [
    "TASK 12"
   ]
  },
  {
   "cell_type": "code",
   "execution_count": 6,
   "metadata": {},
   "outputs": [
    {
     "name": "stdout",
     "output_type": "stream",
     "text": [
      "    1     \n",
      "  2 1 2   \n",
      "3 2 1 2 3 \n"
     ]
    }
   ],
   "source": [
    "num = int(input(\"Enter your num : \"))\n",
    "for i in range(1, num+1):\n",
    "    for j in range(1, num*2):\n",
    "        if j < num and j >= num+1-i:\n",
    "            print(num+1-j, end=' ')\n",
    "        elif j == num:\n",
    "            print(1, end=' ')\n",
    "        elif j > num and (j < num+i):\n",
    "            print(j-num+1, end=' ')\n",
    "        else:\n",
    "            print(\" \", end=' ')\n",
    "    print()\n"
   ]
  },
  {
   "cell_type": "markdown",
   "metadata": {},
   "source": [
    "TASK 13a"
   ]
  },
  {
   "cell_type": "code",
   "execution_count": 7,
   "metadata": {},
   "outputs": [
    {
     "name": "stdout",
     "output_type": "stream",
     "text": [
      "\n",
      "1 \n",
      "1 2 \n",
      "1 2 3 \n",
      "1 2 3 4 \n",
      "1 2 3 4 5 \n",
      "1 2 3 4 5 6 \n"
     ]
    }
   ],
   "source": [
    "num = 7\n",
    "for i in range(1, num+1):\n",
    "    for j in range(1, i):\n",
    "        print(j, end=' ')\n",
    "    print()\n"
   ]
  },
  {
   "cell_type": "markdown",
   "metadata": {},
   "source": [
    "TASK 13b"
   ]
  },
  {
   "cell_type": "code",
   "execution_count": 8,
   "metadata": {},
   "outputs": [
    {
     "name": "stdout",
     "output_type": "stream",
     "text": [
      "1 2 3 4 5 6 \n",
      "1 2 3 4 5 \n",
      "1 2 3 4 \n",
      "1 2 3 \n",
      "1 2 \n",
      "1 \n",
      "\n"
     ]
    }
   ],
   "source": [
    "num = 7\n",
    "for i in range(1, num+1):\n",
    "    for j in range(1, num+1-i):\n",
    "        print(j, end=' ')\n",
    "    print()\n"
   ]
  },
  {
   "cell_type": "markdown",
   "metadata": {},
   "source": [
    "TASK 13c"
   ]
  },
  {
   "cell_type": "code",
   "execution_count": 9,
   "metadata": {},
   "outputs": [
    {
     "name": "stdout",
     "output_type": "stream",
     "text": [
      "            \n",
      "          1 \n",
      "        2 1 \n",
      "      3 2 1 \n",
      "    4 3 2 1 \n",
      "  5 4 3 2 1 \n",
      "6 5 4 3 2 1 \n"
     ]
    }
   ],
   "source": [
    "num = 7\n",
    "for i in range(1, num+1):\n",
    "    for j in range(1, num):\n",
    "        if j < num and j >= num+1-i:\n",
    "            print(num-j, end=' ')\n",
    "        elif j == num:\n",
    "            print(1, end=' ')\n",
    "        else:\n",
    "            print(\" \", end=' ')\n",
    "    print()\n"
   ]
  },
  {
   "cell_type": "markdown",
   "metadata": {},
   "source": [
    "TASK 13d"
   ]
  },
  {
   "cell_type": "code",
   "execution_count": 10,
   "metadata": {},
   "outputs": [
    {
     "name": "stdout",
     "output_type": "stream",
     "text": [
      "1 2 3 4 5 6 \n",
      "1 2 3 4 5 \n",
      "1 2 3 4 \n",
      "1 2 3 \n",
      "1 2 \n",
      "1 \n"
     ]
    }
   ],
   "source": [
    "num = 7\n",
    "for i in range(1, num):\n",
    "    for j in range(1, num+1-i):\n",
    "        print(j, end=' ')\n",
    "    print()\n"
   ]
  },
  {
   "cell_type": "markdown",
   "metadata": {},
   "source": [
    "TASK 14"
   ]
  },
  {
   "cell_type": "code",
   "execution_count": 11,
   "metadata": {},
   "outputs": [
    {
     "name": "stdout",
     "output_type": "stream",
     "text": [
      "ISBN  QURAN\n",
      "Title  MAN\n",
      "Price  200\n",
      "MainArea  KINDNESS\n",
      "SubArea  KAHAF\n"
     ]
    }
   ],
   "source": [
    "# Create a class BOOK with properties ISBN, Title, Price, Main Area\n",
    "# , Sub Area, No of Pages. Constructor initialize these properties\n",
    "# and show function display properties of and object. Call\n",
    "# functions using object\n",
    "class BOOK:\n",
    "    ISBN = ''\n",
    "    Title = ''\n",
    "    Price = 0\n",
    "    MainArea = ''\n",
    "    SubArea = ''\n",
    "    NoOfPages = 0\n",
    "\n",
    "    def __init__(self, ISBN, Title, Price, MainArea, SubArea, NoOfPages):\n",
    "        self.ISBN = ISBN\n",
    "        self.Title = Title\n",
    "        self.Price = Price\n",
    "        self.MainArea = MainArea\n",
    "        self.SubArea = SubArea\n",
    "        self.NoOfPages = NoOfPages\n",
    "\n",
    "    def ShowData(self):\n",
    "        print('ISBN ', self.ISBN)\n",
    "        print('Title ', self.Title)\n",
    "        print('Price ', self.Price)\n",
    "        print('MainArea ', self.MainArea)\n",
    "        print('SubArea ', self.SubArea)\n",
    "\n",
    "\n",
    "book1 = BOOK('QURAN', 'MAN', 200, 'KINDNESS', 'KAHAF', 1200)\n",
    "book1.ShowData()\n"
   ]
  },
  {
   "cell_type": "markdown",
   "metadata": {},
   "source": [
    "TASK 15"
   ]
  },
  {
   "cell_type": "code",
   "execution_count": 12,
   "metadata": {},
   "outputs": [
    {
     "name": "stdout",
     "output_type": "stream",
     "text": [
      "Brand Name :  IBM\n",
      "Speed in GHz :  2.6\n",
      "Memory Size :  500\n"
     ]
    }
   ],
   "source": [
    "# Create a class Computer with properties: Brand Name, Speed,\n",
    "# Memory Size. Constructor initialize these properties and\n",
    "# show function display properties of and object. Call\n",
    "# functions using object.\n",
    "class Computer:\n",
    "    Brand_Name = ''\n",
    "    SpeedGHz = 0\n",
    "    MemorySizeINGBs = 0\n",
    "\n",
    "    def __init__(self):\n",
    "        self.Brand_Name = 'IBM'\n",
    "        self.SpeedGHz = 2.6\n",
    "        self.MemorySizeINGBs = 500\n",
    "\n",
    "    def showData(self):\n",
    "        print(\"Brand Name : \", self.Brand_Name)\n",
    "        print(\"Speed in GHz : \", self.SpeedGHz)\n",
    "        print(\"Memory Size : \", self.MemorySizeINGBs)\n",
    "\n",
    "\n",
    "compter1 = Computer()\n",
    "compter1.showData()\n"
   ]
  }
 ],
 "metadata": {
  "interpreter": {
   "hash": "afe1b852320376a9a48055bdfe6ac9b09e17658875aefa9b83cc552fb632d8c5"
  },
  "kernelspec": {
   "display_name": "Python 3.10.2 64-bit",
   "language": "python",
   "name": "python3"
  },
  "language_info": {
   "codemirror_mode": {
    "name": "ipython",
    "version": 3
   },
   "file_extension": ".py",
   "mimetype": "text/x-python",
   "name": "python",
   "nbconvert_exporter": "python",
   "pygments_lexer": "ipython3",
   "version": "3.10.2"
  },
  "orig_nbformat": 4
 },
 "nbformat": 4,
 "nbformat_minor": 2
}
